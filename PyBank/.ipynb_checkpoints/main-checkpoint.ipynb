{
 "cells": [
  {
   "cell_type": "code",
   "execution_count": 1,
   "metadata": {},
   "outputs": [],
   "source": [
    "from pathlib import Path\n",
    "import csv"
   ]
  },
  {
   "cell_type": "code",
   "execution_count": 2,
   "metadata": {},
   "outputs": [],
   "source": [
    "csvpath=Path (\"/Users/bulya/desktop/ru-hou-fin-pt-03-2020-u-c/hw/02-Python/instructions/PyBank/Resources/budget_data.csv\")"
   ]
  },
  {
   "cell_type": "code",
   "execution_count": 24,
   "metadata": {},
   "outputs": [
    {
     "name": "stdout",
     "output_type": "stream",
     "text": [
      "Financial Analysis\n",
      "----------------------------------------------\n",
      "Total Months: 86\n",
      "Total: $38382578\n",
      "Average Change: $446309.0465116279\n",
      "Greatest Increase in Profits: Feb-2012 ($1170593)\n",
      "Greatest Decrease in Profits: Sep-2013 ($-1196225)\n"
     ]
    }
   ],
   "source": [
    "with open(csvpath, \"r\") as csvfile:\n",
    "    \n",
    "    csvreader = csv.reader(csvfile, delimiter=\",\")\n",
    "    \n",
    "    head = next(csvreader)\n",
    "    total_month= 0\n",
    "    total_profit_losses= 0\n",
    "    greatest_increase_profit=0\n",
    "    date_increase= ''\n",
    "    greatest_decrease_losses=0\n",
    "    date_decrease= ''\n",
    "\n",
    "    for row in csvreader:\n",
    "        total_month += 1\n",
    "        total_profit_losses += int(row[1])\n",
    "        if greatest_increase_profit < int(row[1]):\n",
    "            greatest_increase_profit = int(row[1])\n",
    "            date_increase = row[0]\n",
    "        if greatest_decrease_losses == 0:\n",
    "            greatest_decrease_losses = int(row[1])\n",
    "            date_decrease = row[0]\n",
    "        elif greatest_decrease_losses > int(row[1]):\n",
    "            greatest_decrease_losses = int(row[1])\n",
    "            date_decrease = row[0]\n",
    "\n",
    "print(\"Financial Analysis\")\n",
    "print(\"----------------------------------------------\")\n",
    "print('Total Months: {}'.format(total_month))\n",
    "print('Total: ${}'.format(total_profit_losses))\n",
    "print('Average Change: ${}'.format(total_profit_losses/total_month))\n",
    "print('Greatest Increase in Profits: {} (${})'.format(date_increase, greatest_increase_profit))\n",
    "print('Greatest Decrease in Profits: {} (${})'.format(date_decrease, greatest_decrease_losses))\n",
    "\n",
    "\n",
    "        "
   ]
  },
  {
   "cell_type": "code",
   "execution_count": 25,
   "metadata": {},
   "outputs": [
    {
     "ename": "NameError",
     "evalue": "name 'output' is not defined",
     "output_type": "error",
     "traceback": [
      "\u001b[0;31m---------------------------------------------------------------------------\u001b[0m",
      "\u001b[0;31mNameError\u001b[0m                                 Traceback (most recent call last)",
      "\u001b[0;32m<ipython-input-25-f5d4820b9a62>\u001b[0m in \u001b[0;36m<module>\u001b[0;34m\u001b[0m\n\u001b[0;32m----> 1\u001b[0;31m \u001b[0moutput_Path\u001b[0m\u001b[0;34m=\u001b[0m \u001b[0mPath\u001b[0m\u001b[0;34m(\u001b[0m\u001b[0moutput\u001b[0m\u001b[0;34m.\u001b[0m\u001b[0mtxt\u001b[0m\u001b[0;34m)\u001b[0m\u001b[0;34m\u001b[0m\u001b[0;34m\u001b[0m\u001b[0m\n\u001b[0m",
      "\u001b[0;31mNameError\u001b[0m: name 'output' is not defined"
     ]
    }
   ],
   "source": [
    "output_Path= Path(output.txt)"
   ]
  },
  {
   "cell_type": "code",
   "execution_count": null,
   "metadata": {},
   "outputs": [],
   "source": []
  }
 ],
 "metadata": {
  "kernelspec": {
   "display_name": "Python 3",
   "language": "python",
   "name": "python3"
  },
  "language_info": {
   "codemirror_mode": {
    "name": "ipython",
    "version": 3
   },
   "file_extension": ".py",
   "mimetype": "text/x-python",
   "name": "python",
   "nbconvert_exporter": "python",
   "pygments_lexer": "ipython3",
   "version": "3.7.4"
  }
 },
 "nbformat": 4,
 "nbformat_minor": 4
}
