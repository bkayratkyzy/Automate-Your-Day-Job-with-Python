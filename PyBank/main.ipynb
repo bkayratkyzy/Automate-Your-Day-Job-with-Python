{
 "cells": [
  {
   "cell_type": "code",
   "execution_count": 18,
   "metadata": {},
   "outputs": [],
   "source": [
    "from pathlib import Path\n",
    "import csv"
   ]
  },
  {
   "cell_type": "code",
   "execution_count": 19,
   "metadata": {},
   "outputs": [],
   "source": [
    "csvpath=Path (\"/Users/bulya/desktop/ru-hou-fin-pt-03-2020-u-c/hw/02-Python/instructions/PyBank/Resources/budget_data.csv\")"
   ]
  },
  {
   "cell_type": "code",
   "execution_count": 20,
   "metadata": {},
   "outputs": [
    {
     "name": "stdout",
     "output_type": "stream",
     "text": [
      "Financial Analysis\n",
      "----------------------------------------------\n",
      "Total Months: 86\n",
      "Total: $38382578\n",
      "Average Change: $-2315.12\n",
      "Greatest Increase in Profits: Feb-2012 ($1170593)\n",
      "Greatest Decrease in Profits: Sep-2013 ($-1196225)\n"
     ]
    }
   ],
   "source": [
    "with open(csvpath, \"r\") as csvfile:\n",
    "    \n",
    "    csvreader = csv.reader(csvfile, delimiter=\",\")\n",
    "    head = next(csvreader)\n",
    "        \n",
    "    total_month= 0\n",
    "    total_profit_losses= 0\n",
    "    total_losses=0\n",
    "    losses=0\n",
    "    greatest_increase_profit=0\n",
    "    date_increase= ''\n",
    "    greatest_decrease_losses=0\n",
    "    date_decrease= ''\n",
    "    a = []\n",
    "\n",
    "    for row in csvreader:\n",
    "        total_month += 1\n",
    "        total_profit_losses += int(row[1])\n",
    "        a.append(int(row[1]))\n",
    "        if greatest_increase_profit < int(row[1]):\n",
    "            greatest_increase_profit = int(row[1])\n",
    "            date_increase = row[0]\n",
    "        if greatest_decrease_losses == 0:\n",
    "            greatest_decrease_losses = int(row[1])\n",
    "            date_decrease = row[0]\n",
    "        elif greatest_decrease_losses > int(row[1]):\n",
    "            greatest_decrease_losses = int(row[1])\n",
    "            date_decrease = row[0]\n",
    "    average_change = 0\n",
    "    for i in range (1,len(a)):\n",
    "        average_change += a[i-1]-a[i]\n",
    "\n",
    "print(\"Financial Analysis\")\n",
    "print(\"----------------------------------------------\")\n",
    "print(\"Total Months: {}\".format(total_month))\n",
    "print(\"Total: ${}\".format(total_profit_losses))\n",
    "print(\"Average Change: ${}\".format(0-round(average_change/(total_month-1), 2)))\n",
    "print(\"Greatest Increase in Profits: {} (${})\".format(date_increase, greatest_increase_profit))\n",
    "print(\"Greatest Decrease in Profits: {} (${})\".format(date_decrease, greatest_decrease_losses))"
   ]
  },
  {
   "cell_type": "code",
   "execution_count": 21,
   "metadata": {},
   "outputs": [],
   "source": [
    "output_path=Path (\"./output.txt\")\n",
    "\n",
    "with open(output_path,\"w\") as file:\n",
    "    file.write(\"Financial Analysis\" + \"\\n\")\n",
    "    file.write(\"---------------------------------------\" + \"\\n\")\n",
    "    file.write(\"Total Months: {}\" .format(total_month) + \"\\n\")\n",
    "    file.write(\"Total: ${}\" .format(total_profit_losses) + \"\\n\")\n",
    "    file.write(\"Average Change: ${}\" .format(0-round(average_change/(total_month-1), 2)) + \"\\n\")\n",
    "    file.write(\"Greatest Increase in Profits: {} (${})\".format(date_increase, greatest_increase_profit) + \"\\n\")\n",
    "    file.write(\"Greatest Decrease in Profits: {} (${})\".format(date_decrease, greatest_decrease_losses) + \"\\n\")"
   ]
  },
  {
   "cell_type": "code",
   "execution_count": null,
   "metadata": {},
   "outputs": [],
   "source": []
  }
 ],
 "metadata": {
  "kernelspec": {
   "display_name": "Python 3",
   "language": "python",
   "name": "python3"
  },
  "language_info": {
   "codemirror_mode": {
    "name": "ipython",
    "version": 3
   },
   "file_extension": ".py",
   "mimetype": "text/x-python",
   "name": "python",
   "nbconvert_exporter": "python",
   "pygments_lexer": "ipython3",
   "version": "3.7.4"
  }
 },
 "nbformat": 4,
 "nbformat_minor": 4
}
